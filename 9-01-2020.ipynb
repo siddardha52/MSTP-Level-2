{
 "cells": [
  {
   "cell_type": "code",
   "execution_count": 33,
   "metadata": {},
   "outputs": [
    {
     "name": "stdout",
     "output_type": "stream",
     "text": [
      "Enter username sdlv\n",
      "Enter Password1245\n",
      "Welcome sdlv\n"
     ]
    }
   ],
   "source": [
    "u=\"sdlv\"\n",
    "p=\"1245\"\n",
    "username = input(\"Enter username \")\n",
    "if username == u :\n",
    "    password = input(\"Enter Password\") \n",
    "    if password ==p :\n",
    "        print(\"Welcome \"+u)\n",
    "    else :\n",
    "        print(\"Invalid username\")"
   ]
  },
  {
   "cell_type": "code",
   "execution_count": 28,
   "metadata": {},
   "outputs": [
    {
     "name": "stdout",
     "output_type": "stream",
     "text": [
      "Enter a Value:1\n",
      "Enter b Value:2\n",
      "Enter c Value:3\n",
      "6\n"
     ]
    }
   ],
   "source": [
    "a=int(input(\"Enter a Value:\"))\n",
    "b=int(input(\"Enter b Value:\"))\n",
    "c=int(input(\"Enter c Value:\"))\n",
    "if  a == b == c :\n",
    "    print(\"0\")\n",
    "elif c==a!=b :\n",
    "    print(b)\n",
    "elif a==b!=c :\n",
    "    print(c)\n",
    "elif b==c!=a :\n",
    "    print(a)\n",
    "else:\n",
    "    print(a+b+c)\n"
   ]
  },
  {
   "cell_type": "code",
   "execution_count": 32,
   "metadata": {},
   "outputs": [
    {
     "name": "stdout",
     "output_type": "stream",
     "text": [
      "Enter n value:1000002000\n",
      "Valid ISBN\n"
     ]
    }
   ],
   "source": [
    "n=input(\"Enter n value:\")\n",
    "c=10\n",
    "d=0\n",
    "if len(n)<10 or len(n)>11:\n",
    "    print(\"Illegal ISBN\")\n",
    "else:\n",
    "    n=int(n)\n",
    "    while(n<0):\n",
    "        r = n%10\n",
    "        d = d+r*c\n",
    "        c = c-1\n",
    "        n = floor(n/10)\n",
    "    if(d%11 == 0): \n",
    "        print(\"Valid ISBN\")\n",
    "    else:\n",
    "        print(\"Invalid ISBN\")\n",
    "        "
   ]
  },
  {
   "cell_type": "code",
   "execution_count": 40,
   "metadata": {},
   "outputs": [
    {
     "name": "stdout",
     "output_type": "stream",
     "text": [
      "Enter a value:1\n",
      "Enter b value:20\n",
      "210\n"
     ]
    }
   ],
   "source": [
    "a=int(input(\"Enter a value:\"))\n",
    "b=int(input(\"Enter b value:\"))\n",
    "c=((b*(b+1))//2)\n",
    "print (c)"
   ]
  },
  {
   "cell_type": "code",
   "execution_count": 46,
   "metadata": {},
   "outputs": [
    {
     "name": "stdout",
     "output_type": "stream",
     "text": [
      "Enter n value:7\n",
      "7 * 1 = 7\t7 * 2 = 14\t7 * 3 = 21\t7 * 4 = 28\t7 * 5 = 35\t7 * 6 = 42\t7 * 7 = 49\t7 * 8 = 56\t7 * 9 = 63\t7 * 10 = 70\t"
     ]
    }
   ],
   "source": [
    "n=int(input(\"Enter n value:\"))\n",
    "for i in range(1,11):\n",
    "     print(n,\"*\",i,\"=\",n*i,end=\"\\t\")"
   ]
  },
  {
   "cell_type": "code",
   "execution_count": 48,
   "metadata": {},
   "outputs": [
    {
     "name": "stdout",
     "output_type": "stream",
     "text": [
      "Enter a value:12\n",
      "Enter b value:123\n",
      "322\n"
     ]
    }
   ],
   "source": [
    "a=int(input(\"Enter a value:\"))\n",
    "b=int(input(\"Enter b value:\"))\n",
    "for i in range(a,b+1):\n",
    "     c=c+1\n",
    "print (c)\n"
   ]
  },
  {
   "cell_type": "code",
   "execution_count": 61,
   "metadata": {},
   "outputs": [
    {
     "name": "stdout",
     "output_type": "stream",
     "text": [
      "Enter no.of rows:7\n",
      "* \n",
      "* * \n",
      "* * * \n",
      "* * * * \n",
      "* * * * * \n",
      "* * * * * * \n",
      "* * * * * * * \n",
      "* * * * * * * * \n"
     ]
    }
   ],
   "source": [
    "n=int(input(\"Enter no.of rows:\"))\n",
    "for i in range(n+1):\n",
    "    for j in range(i+1):\n",
    "        print(\"*\",end=\" \")\n",
    "    print()"
   ]
  },
  {
   "cell_type": "code",
   "execution_count": 78,
   "metadata": {},
   "outputs": [
    {
     "name": "stdout",
     "output_type": "stream",
     "text": [
      "Enter no.of rows5\n",
      "\n",
      "*\n",
      "\n",
      "\n",
      "*\n",
      "**\n",
      "\n",
      "\n",
      "*\n",
      "**\n",
      "***\n",
      "\n",
      "\n",
      "*\n",
      "**\n",
      "***\n",
      "****\n",
      "\n",
      "\n",
      "*\n",
      "**\n",
      "***\n",
      "****\n",
      "*****\n",
      "\n"
     ]
    }
   ],
   "source": [
    "n=int(input(\"Enter no.of rows\"))\n",
    "for i in range(1,n+1):\n",
    "    for j in range(i+1):\n",
    "        for k in range(j):\n",
    "            print(\"*\",end=\"\")\n",
    "        print()\n",
    "    print()\n",
    "    "
   ]
  },
  {
   "cell_type": "code",
   "execution_count": 2,
   "metadata": {},
   "outputs": [
    {
     "name": "stdout",
     "output_type": "stream",
     "text": [
      "Enter value:12\n",
      "Enter value:31\n",
      "Enter value:35\n",
      "Enter value:52\n",
      "Enter value:stop\n",
      "52\n"
     ]
    }
   ],
   "source": [
    "m=0\n",
    "while True:\n",
    "    n=input(\"Enter value:\")\n",
    "    if n == \"stop\":\n",
    "        break\n",
    "    else:\n",
    "        k=int(n)\n",
    "        if m<k:\n",
    "            m=k\n",
    "print(m)\n",
    "    "
   ]
  },
  {
   "cell_type": "markdown",
   "metadata": {},
   "source": [
    "# String Operations\n",
    "- replication\n",
    "- concatination\n",
    "- membership test\n",
    "- slicing"
   ]
  },
  {
   "cell_type": "code",
   "execution_count": 21,
   "metadata": {},
   "outputs": [
    {
     "name": "stdout",
     "output_type": "stream",
     "text": [
      "avengers infinity war thorironman\n",
      "avengers infinity waravengers infinity waravengers infinity war\n",
      " thorironman thorironman\n",
      "True\n",
      "False\n",
      "thor\n",
      "aiw\n",
      "spiderman in thorironman\n"
     ]
    }
   ],
   "source": [
    "a = \"avengers infinity war\"\n",
    "b = \" thorironman\"\n",
    "d = \"spiderman \"\n",
    "c = \"12313552\"\n",
    "print(a + b) #cocatination\n",
    "print(a*3) #replication of string value\n",
    "print(b*2) #replication of integer value\n",
    "print('g' in a)\n",
    "print('d' in b)\n",
    "print(b[1:5])\n",
    "a[-7:-2]\n",
    "print(a[0]+a[9]+a[18])\n",
    "b[::4]\n",
    "a[::-2]\n",
    "print(d + \"in\" + b)"
   ]
  },
  {
   "cell_type": "code",
   "execution_count": 14,
   "metadata": {},
   "outputs": [
    {
     "name": "stdout",
     "output_type": "stream",
     "text": [
      "methods in strings\n",
      "sten\n",
      "METHods in strINGS\n"
     ]
    },
    {
     "data": {
      "text/plain": [
       "'Methods In Strings'"
      ]
     },
     "execution_count": 14,
     "metadata": {},
     "output_type": "execute_result"
    }
   ],
   "source": [
    "a=\"STEN\"\n",
    "c=\"methODS IN STRings\"\n",
    "print(c.casefold())\n",
    "print(a.casefold())\n",
    "print(c.swapcase())\n",
    "c.capitalize()\n",
    "c.title()\n",
    "\n",
    "\n"
   ]
  },
  {
   "cell_type": "code",
   "execution_count": 6,
   "metadata": {},
   "outputs": [
    {
     "name": "stdout",
     "output_type": "stream",
     "text": [
      "['sai', 'tirumala', 'NVR', 'engineering', 'college']\n"
     ]
    },
    {
     "data": {
      "text/plain": [
       "['s', 'i tirum', 'l', ' NVR engineering college']"
      ]
     },
     "execution_count": 6,
     "metadata": {},
     "output_type": "execute_result"
    }
   ],
   "source": [
    "b=\"sai tirumala NVR engineering college\"\n",
    "print(b.split())\n",
    "b.split('a')"
   ]
  },
  {
   "cell_type": "code",
   "execution_count": 10,
   "metadata": {},
   "outputs": [
    {
     "name": "stdout",
     "output_type": "stream",
     "text": [
      "level two\n",
      "level two   \n"
     ]
    },
    {
     "data": {
      "text/plain": [
       "'     level two'"
      ]
     },
     "execution_count": 10,
     "metadata": {},
     "output_type": "execute_result"
    }
   ],
   "source": [
    "k=\"     level two   \"\n",
    "print(k.strip())\n",
    "print(k.lstrip())\n",
    "k.rstrip()"
   ]
  },
  {
   "cell_type": "code",
   "execution_count": 15,
   "metadata": {},
   "outputs": [
    {
     "name": "stdout",
     "output_type": "stream",
     "text": [
      "HELLO WORLD\n"
     ]
    }
   ],
   "source": [
    "a=\"hello world\"\n",
    "print(a.upper())\n"
   ]
  },
  {
   "cell_type": "code",
   "execution_count": 17,
   "metadata": {},
   "outputs": [
    {
     "name": "stdout",
     "output_type": "stream",
     "text": [
      "hello world\n"
     ]
    }
   ],
   "source": [
    "a=\"heLLO WORLD\"\n",
    "print(a.lower())\n"
   ]
  },
  {
   "cell_type": "code",
   "execution_count": 18,
   "metadata": {},
   "outputs": [
    {
     "data": {
      "text/plain": [
       "True"
      ]
     },
     "execution_count": 18,
     "metadata": {},
     "output_type": "execute_result"
    }
   ],
   "source": [
    "a=\"hello world\"\n",
    "a.islower()"
   ]
  },
  {
   "cell_type": "code",
   "execution_count": 19,
   "metadata": {},
   "outputs": [
    {
     "data": {
      "text/plain": [
       "False"
      ]
     },
     "execution_count": 19,
     "metadata": {},
     "output_type": "execute_result"
    }
   ],
   "source": [
    "a=\"hello world\"\n",
    "a.isupper()"
   ]
  },
  {
   "cell_type": "code",
   "execution_count": 23,
   "metadata": {},
   "outputs": [
    {
     "name": "stdout",
     "output_type": "stream",
     "text": [
      "True\n",
      "True\n",
      "True\n"
     ]
    }
   ],
   "source": [
    "a=\"1234\"\n",
    "b=\"cdsx1234\"\n",
    "c=\"bjkn\"\n",
    "print(a.isdigit())\n",
    "print(a.isalnum())\n",
    "print(c.isalpha())"
   ]
  },
  {
   "cell_type": "code",
   "execution_count": 32,
   "metadata": {},
   "outputs": [
    {
     "name": "stdout",
     "output_type": "stream",
     "text": [
      "cese\n"
     ]
    },
    {
     "data": {
      "text/plain": [
       "'c#e#s#e'"
      ]
     },
     "execution_count": 32,
     "metadata": {},
     "output_type": "execute_result"
    }
   ],
   "source": [
    "a=\"cese\"\n",
    "print(\"\".join(a))\n",
    "\"#\".join(a)"
   ]
  },
  {
   "cell_type": "code",
   "execution_count": 33,
   "metadata": {},
   "outputs": [
    {
     "name": "stdout",
     "output_type": "stream",
     "text": [
      "True\n"
     ]
    }
   ],
   "source": [
    "print(a.startswith(\"c\"))\n"
   ]
  },
  {
   "cell_type": "code",
   "execution_count": 28,
   "metadata": {},
   "outputs": [
    {
     "name": "stdout",
     "output_type": "stream",
     "text": [
      "True\n"
     ]
    }
   ],
   "source": [
    "print(a.endswith(\"e\"))"
   ]
  },
  {
   "cell_type": "code",
   "execution_count": 34,
   "metadata": {},
   "outputs": [
    {
     "name": "stdout",
     "output_type": "stream",
     "text": [
      "1\n",
      "2\n"
     ]
    }
   ],
   "source": [
    "print(a.index(\"e\"))\n",
    "print(a.count(\"e\"))\n"
   ]
  },
  {
   "cell_type": "code",
   "execution_count": 38,
   "metadata": {},
   "outputs": [
    {
     "name": "stdout",
     "output_type": "stream",
     "text": [
      "name is siddu with roll no 552 have 80 precentage\n"
     ]
    }
   ],
   "source": [
    "a=\"siddu\"\n",
    "i=552\n",
    "f=80\n",
    "print(\"name is {} with roll no {} have {} precentage\".format(a,i,f))"
   ]
  },
  {
   "cell_type": "code",
   "execution_count": 75,
   "metadata": {},
   "outputs": [
    {
     "name": "stdout",
     "output_type": "stream",
     "text": [
      "1\t2\t3\t5\t2\t13\n"
     ]
    }
   ],
   "source": [
    "a=\"abc123hfy52\"\n",
    "sum=0\n",
    "for i in a:\n",
    "    if i.isdigit():\n",
    "        print(i,end=\"\\t\")\n",
    "        sum = sum +int(i)\n",
    "print(sum)\n",
    "     \n",
    "  \n",
    "\n",
    "\n",
    "\n",
    "\n"
   ]
  },
  {
   "cell_type": "code",
   "execution_count": 79,
   "metadata": {},
   "outputs": [
    {
     "name": "stdout",
     "output_type": "stream",
     "text": [
      "enter stringGhgguyfgjFFFFF529529 7$%$%ffjgnfjn 8452 HHDHH\n",
      "11\n",
      "11\n",
      "4\n",
      "3\n",
      "16\n"
     ]
    }
   ],
   "source": [
    "s=input(\"enter string\")\n",
    "u=0\n",
    "l = 0\n",
    "spl=0\n",
    "d=0\n",
    "spa=0\n",
    "for i in range(len(s)):\n",
    "    if s[i].isdigit():\n",
    "        d+=1\n",
    "    elif s[i].isupper():\n",
    "        u+=1\n",
    "    elif s[i].islower():\n",
    "        l+=1\n",
    "    elif s[i].isspace():\n",
    "        spa+=1\n",
    "    else:\n",
    "        spl+=1\n",
    "print(u)\n",
    "print(d)\n",
    "print(spl)\n",
    "print(spa)\n",
    "print(l)\n",
    "\n",
    "\n",
    "\n",
    "        \n"
   ]
  },
  {
   "cell_type": "code",
   "execution_count": 80,
   "metadata": {},
   "outputs": [
    {
     "data": {
      "text/plain": [
       "['__add__',\n",
       " '__class__',\n",
       " '__contains__',\n",
       " '__delattr__',\n",
       " '__dir__',\n",
       " '__doc__',\n",
       " '__eq__',\n",
       " '__format__',\n",
       " '__ge__',\n",
       " '__getattribute__',\n",
       " '__getitem__',\n",
       " '__getnewargs__',\n",
       " '__gt__',\n",
       " '__hash__',\n",
       " '__init__',\n",
       " '__init_subclass__',\n",
       " '__iter__',\n",
       " '__le__',\n",
       " '__len__',\n",
       " '__lt__',\n",
       " '__mod__',\n",
       " '__mul__',\n",
       " '__ne__',\n",
       " '__new__',\n",
       " '__reduce__',\n",
       " '__reduce_ex__',\n",
       " '__repr__',\n",
       " '__rmod__',\n",
       " '__rmul__',\n",
       " '__setattr__',\n",
       " '__sizeof__',\n",
       " '__str__',\n",
       " '__subclasshook__',\n",
       " 'capitalize',\n",
       " 'casefold',\n",
       " 'center',\n",
       " 'count',\n",
       " 'encode',\n",
       " 'endswith',\n",
       " 'expandtabs',\n",
       " 'find',\n",
       " 'format',\n",
       " 'format_map',\n",
       " 'index',\n",
       " 'isalnum',\n",
       " 'isalpha',\n",
       " 'isascii',\n",
       " 'isdecimal',\n",
       " 'isdigit',\n",
       " 'isidentifier',\n",
       " 'islower',\n",
       " 'isnumeric',\n",
       " 'isprintable',\n",
       " 'isspace',\n",
       " 'istitle',\n",
       " 'isupper',\n",
       " 'join',\n",
       " 'ljust',\n",
       " 'lower',\n",
       " 'lstrip',\n",
       " 'maketrans',\n",
       " 'partition',\n",
       " 'replace',\n",
       " 'rfind',\n",
       " 'rindex',\n",
       " 'rjust',\n",
       " 'rpartition',\n",
       " 'rsplit',\n",
       " 'rstrip',\n",
       " 'split',\n",
       " 'splitlines',\n",
       " 'startswith',\n",
       " 'strip',\n",
       " 'swapcase',\n",
       " 'title',\n",
       " 'translate',\n",
       " 'upper',\n",
       " 'zfill']"
      ]
     },
     "execution_count": 80,
     "metadata": {},
     "output_type": "execute_result"
    }
   ],
   "source": [
    "dir(str)"
   ]
  },
  {
   "cell_type": "markdown",
   "metadata": {},
   "source": [
    "# FUNCTIONS\n",
    "## pre-defined functions\n",
    "- input(),print(),str(),float(),abs(),min(),max(),len(),type(),ord(),chr()"
   ]
  },
  {
   "cell_type": "code",
   "execution_count": 84,
   "metadata": {},
   "outputs": [
    {
     "data": {
      "text/plain": [
       "' '"
      ]
     },
     "execution_count": 84,
     "metadata": {},
     "output_type": "execute_result"
    }
   ],
   "source": [
    "a=\"this is python programming class\"\n",
    "min(a)\n"
   ]
  },
  {
   "cell_type": "code",
   "execution_count": 83,
   "metadata": {},
   "outputs": [
    {
     "data": {
      "text/plain": [
       "'6'"
      ]
     },
     "execution_count": 83,
     "metadata": {},
     "output_type": "execute_result"
    }
   ],
   "source": [
    "b=\"2236\"\n",
    "max(b)"
   ]
  },
  {
   "cell_type": "code",
   "execution_count": 85,
   "metadata": {},
   "outputs": [
    {
     "data": {
      "text/plain": [
       "876852518"
      ]
     },
     "execution_count": 85,
     "metadata": {},
     "output_type": "execute_result"
    }
   ],
   "source": [
    "l=[12,567,876852518]\n",
    "max(l)"
   ]
  },
  {
   "cell_type": "code",
   "execution_count": 87,
   "metadata": {},
   "outputs": [
    {
     "data": {
      "text/plain": [
       "'{'"
      ]
     },
     "execution_count": 87,
     "metadata": {},
     "output_type": "execute_result"
    }
   ],
   "source": [
    "chr(123)\n"
   ]
  },
  {
   "cell_type": "code",
   "execution_count": 88,
   "metadata": {},
   "outputs": [
    {
     "data": {
      "text/plain": [
       "64"
      ]
     },
     "execution_count": 88,
     "metadata": {},
     "output_type": "execute_result"
    }
   ],
   "source": [
    "ord(\"@\")"
   ]
  },
  {
   "cell_type": "code",
   "execution_count": 89,
   "metadata": {},
   "outputs": [
    {
     "data": {
      "text/plain": [
       "42"
      ]
     },
     "execution_count": 89,
     "metadata": {},
     "output_type": "execute_result"
    }
   ],
   "source": [
    "ord(\"*\")"
   ]
  },
  {
   "cell_type": "code",
   "execution_count": 90,
   "metadata": {},
   "outputs": [
    {
     "data": {
      "text/plain": [
       "37"
      ]
     },
     "execution_count": 90,
     "metadata": {},
     "output_type": "execute_result"
    }
   ],
   "source": [
    "ord(\"%\")"
   ]
  },
  {
   "cell_type": "code",
   "execution_count": 91,
   "metadata": {},
   "outputs": [
    {
     "data": {
      "text/plain": [
       "97"
      ]
     },
     "execution_count": 91,
     "metadata": {},
     "output_type": "execute_result"
    }
   ],
   "source": [
    "ord(\"a\")"
   ]
  },
  {
   "cell_type": "code",
   "execution_count": 92,
   "metadata": {},
   "outputs": [
    {
     "data": {
      "text/plain": [
       "65"
      ]
     },
     "execution_count": 92,
     "metadata": {},
     "output_type": "execute_result"
    }
   ],
   "source": [
    "ord(\"A\")"
   ]
  },
  {
   "cell_type": "code",
   "execution_count": 97,
   "metadata": {},
   "outputs": [
    {
     "data": {
      "text/plain": [
       "'\\x1f'"
      ]
     },
     "execution_count": 97,
     "metadata": {},
     "output_type": "execute_result"
    }
   ],
   "source": [
    "chr(31)"
   ]
  },
  {
   "cell_type": "code",
   "execution_count": 94,
   "metadata": {},
   "outputs": [
    {
     "data": {
      "text/plain": [
       "'\\x0c'"
      ]
     },
     "execution_count": 94,
     "metadata": {},
     "output_type": "execute_result"
    }
   ],
   "source": [
    "chr(12)"
   ]
  },
  {
   "cell_type": "code",
   "execution_count": 95,
   "metadata": {},
   "outputs": [
    {
     "data": {
      "text/plain": [
       "'4'"
      ]
     },
     "execution_count": 95,
     "metadata": {},
     "output_type": "execute_result"
    }
   ],
   "source": [
    "chr(52)"
   ]
  },
  {
   "cell_type": "markdown",
   "metadata": {},
   "source": [
    "# user defined functions\n",
    "## required arguments\n",
    "## keyword arguments\n",
    "## default arguments\n",
    "## variable-length arguments"
   ]
  },
  {
   "cell_type": "code",
   "execution_count": 104,
   "metadata": {},
   "outputs": [
    {
     "name": "stdout",
     "output_type": "stream",
     "text": [
      "enter a10\n",
      "enter b20\n"
     ]
    },
    {
     "data": {
      "text/plain": [
       "200"
      ]
     },
     "execution_count": 104,
     "metadata": {},
     "output_type": "execute_result"
    }
   ],
   "source": [
    "def samplefunction(a,b):\n",
    "    c=a*b\n",
    "    return c\n",
    "a=int(input(\"enter a\"))\n",
    "b=int(input(\"enter b\"))\n",
    "samplefunction(a,b)"
   ]
  },
  {
   "cell_type": "code",
   "execution_count": 107,
   "metadata": {},
   "outputs": [
    {
     "name": "stdout",
     "output_type": "stream",
     "text": [
      "enter a65\n",
      "enter b65\n"
     ]
    },
    {
     "data": {
      "text/plain": [
       "4225"
      ]
     },
     "execution_count": 107,
     "metadata": {},
     "output_type": "execute_result"
    }
   ],
   "source": [
    "samplefunction(int(input(\"enter a\")),int(input(\"enter b\")))"
   ]
  },
  {
   "cell_type": "code",
   "execution_count": 110,
   "metadata": {},
   "outputs": [
    {
     "name": "stdout",
     "output_type": "stream",
     "text": [
      "name siddu and roll no is 552\n"
     ]
    }
   ],
   "source": [
    "def keywordArgs(a,b):\n",
    "    print(\"name {} and roll no is {}\".format(a,b))\n",
    "keywordArgs(b=552,a=\"siddu\")\n",
    "    "
   ]
  },
  {
   "cell_type": "code",
   "execution_count": 111,
   "metadata": {},
   "outputs": [
    {
     "name": "stdout",
     "output_type": "stream",
     "text": [
      "integer 4545,string vishnu,float 25.2\n"
     ]
    }
   ],
   "source": [
    "def keywordArgs(a,b,c):\n",
    "    print(\"integer {},string {},float {}\".format(b,a,c))\n",
    "keywordArgs(b=4545,a=\"vishnu\",c=25.2)\n",
    "\n",
    "    "
   ]
  },
  {
   "cell_type": "markdown",
   "metadata": {},
   "source": [
    "# Default arguments\n"
   ]
  },
  {
   "cell_type": "code",
   "execution_count": 113,
   "metadata": {},
   "outputs": [
    {
     "name": "stdout",
     "output_type": "stream",
     "text": [
      "10 20 bjkn 1.26\n",
      "10 20 bjkn 568\n"
     ]
    }
   ],
   "source": [
    "def defaultArgs(A=10,B=25,C=\"59\",d=1.26):\n",
    "    print(a,b,c,d)\n",
    "defaultArgs(1)\n",
    "defaultArgs(1,49,25,568)\n",
    "\n",
    "\n"
   ]
  },
  {
   "cell_type": "markdown",
   "metadata": {},
   "source": [
    "# variable length arguments"
   ]
  },
  {
   "cell_type": "code",
   "execution_count": 114,
   "metadata": {},
   "outputs": [
    {
     "name": "stdout",
     "output_type": "stream",
     "text": [
      "1\n",
      "2\n",
      "3\n",
      "(4, 5, 6, 'hi', 15, 295, 848, 'python')\n",
      "1\n",
      "3\n",
      "4\n",
      "(5, 'ghcyuc')\n"
     ]
    }
   ],
   "source": [
    "def variableArgs(a,b,c,*d):\n",
    "    print(a)\n",
    "    print(b)\n",
    "    print(c)\n",
    "    print(d)\n",
    "variableArgs(1,2,3,4,5,6,\"hi\",15,295,848,\"python\")\n",
    "variableArgs(1,3,4,5,\"ghcyuc\")"
   ]
  },
  {
   "cell_type": "code",
   "execution_count": 115,
   "metadata": {},
   "outputs": [
    {
     "name": "stdout",
     "output_type": "stream",
     "text": [
      "1.add 2.sub 3. mul 4.div 5.mod 6.power 7.floor division\n"
     ]
    }
   ],
   "source": [
    "print(\"1.add 2.sub 3. mul 4.div 5.mod 6.power 7.floor division\")\n"
   ]
  },
  {
   "cell_type": "code",
   "execution_count": 116,
   "metadata": {},
   "outputs": [
    {
     "name": "stdout",
     "output_type": "stream",
     "text": [
      "enter a:132\n",
      "enter b54\n",
      "1.add 2.sub 3. mul 4.div 5.mod 6.power 7.floor division\n",
      "enter your choice5\n"
     ]
    },
    {
     "ename": "NameError",
     "evalue": "name 'mod' is not defined",
     "output_type": "error",
     "traceback": [
      "\u001b[1;31m---------------------------------------------------------------------------\u001b[0m",
      "\u001b[1;31mNameError\u001b[0m                                 Traceback (most recent call last)",
      "\u001b[1;32m<ipython-input-116-e29b2d5352f9>\u001b[0m in \u001b[0;36m<module>\u001b[1;34m\u001b[0m\n\u001b[0;32m     12\u001b[0m     \u001b[0mdiv\u001b[0m\u001b[1;33m(\u001b[0m\u001b[0ma\u001b[0m\u001b[1;33m,\u001b[0m\u001b[0mb\u001b[0m\u001b[1;33m)\u001b[0m\u001b[1;33m\u001b[0m\u001b[1;33m\u001b[0m\u001b[0m\n\u001b[0;32m     13\u001b[0m \u001b[1;32melif\u001b[0m \u001b[0mch\u001b[0m\u001b[1;33m==\u001b[0m\u001b[1;36m5\u001b[0m\u001b[1;33m:\u001b[0m\u001b[1;33m\u001b[0m\u001b[1;33m\u001b[0m\u001b[0m\n\u001b[1;32m---> 14\u001b[1;33m     \u001b[0mmod\u001b[0m\u001b[1;33m(\u001b[0m\u001b[0ma\u001b[0m\u001b[1;33m,\u001b[0m\u001b[0mb\u001b[0m\u001b[1;33m)\u001b[0m\u001b[1;33m\u001b[0m\u001b[1;33m\u001b[0m\u001b[0m\n\u001b[0m\u001b[0;32m     15\u001b[0m \u001b[1;32melif\u001b[0m \u001b[0mch\u001b[0m\u001b[1;33m==\u001b[0m\u001b[1;36m6\u001b[0m\u001b[1;33m:\u001b[0m\u001b[1;33m\u001b[0m\u001b[1;33m\u001b[0m\u001b[0m\n\u001b[0;32m     16\u001b[0m     \u001b[0mfdiv\u001b[0m\u001b[1;33m(\u001b[0m\u001b[0ma\u001b[0m\u001b[1;33m,\u001b[0m\u001b[0mb\u001b[0m\u001b[1;33m)\u001b[0m\u001b[1;33m\u001b[0m\u001b[1;33m\u001b[0m\u001b[0m\n",
      "\u001b[1;31mNameError\u001b[0m: name 'mod' is not defined"
     ]
    }
   ],
   "source": [
    "a=int(input(\"enter a:\"))\n",
    "b=int(input(\"enter b\"))\n",
    "print(\"1.add 2.sub 3. mul 4.div 5.mod 6.power 7.floor division\")\n",
    "ch=int(input(\"enter your choice\"))\n",
    "if ch==1:\n",
    "    add(a,b)\n",
    "elif ch==2:\n",
    "    sub(a,b)\n",
    "elif ch==3:\n",
    "    mul(a,b)\n",
    "elif ch==4:\n",
    "    div(a,b)\n",
    "elif ch==5:\n",
    "    mod(a,b)\n",
    "elif ch==6:\n",
    "    fdiv(a,b)\n",
    "elif ch==7:\n",
    "    power(a,b)\n",
    "else:\n",
    "    print(\"enter a valid choice\")\n",
    "    \n",
    "    \n",
    "    "
   ]
  },
  {
   "cell_type": "code",
   "execution_count": null,
   "metadata": {},
   "outputs": [],
   "source": [
    "a=int(\"input(\"enter a value\")\")\n",
    "b=int(\"input(\"enter b value\")\")ss\n",
    "\n",
    "\n",
    "    \n",
    "   "
   ]
  },
  {
   "cell_type": "code",
   "execution_count": null,
   "metadata": {},
   "outputs": [],
   "source": []
  }
 ],
 "metadata": {
  "kernelspec": {
   "display_name": "Python 3",
   "language": "python",
   "name": "python3"
  },
  "language_info": {
   "codemirror_mode": {
    "name": "ipython",
    "version": 3
   },
   "file_extension": ".py",
   "mimetype": "text/x-python",
   "name": "python",
   "nbconvert_exporter": "python",
   "pygments_lexer": "ipython3",
   "version": "3.7.1"
  }
 },
 "nbformat": 4,
 "nbformat_minor": 2
}
